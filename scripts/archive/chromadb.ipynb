{
 "cells": [
  {
   "cell_type": "code",
   "execution_count": null,
   "metadata": {},
   "outputs": [],
   "source": [
    "import chromadb\n",
    "from chromadb.utils import embedding_functions\n",
    "import pandas as pd\n",
    "from sentence_transformers import CrossEncoder\n",
    "import numpy as np\n",
    "from tqdm.notebook import tqdm"
   ]
  },
  {
   "cell_type": "code",
   "execution_count": 2,
   "metadata": {},
   "outputs": [],
   "source": [
    "# Load data\n",
    "jobs_ts = pd.read_csv('../output/jobs_ts.csv')\n",
    "isco = pd.read_csv('../data/wi_labels.csv', dtype=str)\n"
   ]
  },
  {
   "cell_type": "code",
   "execution_count": 3,
   "metadata": {},
   "outputs": [],
   "source": [
    "# Some last minute cleaning\n",
    "jobs_ts['title_desc_ts_postclean'] = jobs_ts['title_desc_ts_postclean'].str.lower()\n",
    "isco['description'] = isco['description'].str.lower()"
   ]
  },
  {
   "cell_type": "code",
   "execution_count": null,
   "metadata": {},
   "outputs": [],
   "source": [
    "# checking >4k for description\n",
    "jobs_ts['title_desc_ts_postclean'].str.split().apply(len).describe() # 3 to 1424 words ~ 2.1k tokens max\n",
    "many_words_df = jobs_ts[jobs_ts['title_desc_ts_postclean'].str.split().apply(len) >1000].copy()\n",
    "isco['description'].str.split().apply(len).describe() # 24 to 530 words ~ "
   ]
  },
  {
   "cell_type": "code",
   "execution_count": 5,
   "metadata": {},
   "outputs": [],
   "source": [
    "chk_short_isco = isco[isco['description'].str.split().apply(len) <100]"
   ]
  },
  {
   "cell_type": "code",
   "execution_count": 6,
   "metadata": {},
   "outputs": [],
   "source": [
    "# Checking out notes/Some related occupations classified elsewhere” for ISCO\n",
    "# These additional notes may end up saying how another classification would be better, and may confuse the rag\n",
    "# so to remove them. Note, \"notes\" are always after \"some related occupations...\"\n",
    "isco['description'] = (isco['description']\n",
    "                       .str.replace(r'(notes\\n.*)', '', regex=True)\n",
    "                       .str.replace(r'(some related occupations classified elsewhere.*)', '', regex=True))\n"
   ]
  },
  {
   "cell_type": "code",
   "execution_count": 7,
   "metadata": {},
   "outputs": [],
   "source": [
    "# # Creating gold standard based on the recommendations made in previous models\n",
    "\"\"\"\n",
    "The whole idea for this part is so that we can have a sensing of what could be some sources of error, and of course having\n",
    "to evaluate quality of responses without having to create a submission since we only have 10 submission attempts\n",
    "Evaluation below was done for baseline bge-large v1.5\n",
    "\n",
    "Conclusion:\n",
    "Employment agents and contractors (3333) comes up a lot, possibly because of all the miscellaneous/non-JD related text e.g. APPLY Save Follow us Site language Magyar English About us Download our mobile application Profession Offers for employers Imprint International services Have a question Customer service Contact Terms and Conditions Terms of use Privacy Policy Profession 2021 All Rights Reserved. Login To save a job To save a job, enter your e-mail address or log in to your profile Forgot your password Login I will send it to myself Login with Facebook Login with Google account\n",
    "keyword based approach may be useful and augmented onto this step\n",
    "Romanian/bulgarian/lithuanian job descriptions seem quite problematic. A lot of misc stuff from websites/about HR company who's managing the job post. To confirm if this is the case\n",
    "\n",
    "Need to remove \"Some related occupations classified elsewhere\" for isco dataset, without removing the notes after it. (Or may to consider removing the notes too, need to check first)\n",
    "\n",
    "* 897858836 and 771344098 were not graded as there were 0 hints on the type of jobs they were -- just gibberish\n",
    "\"\"\"\n",
    "\n",
    "# Filtering just to the sampled, and gold standard isco codes\n",
    "best_isco_dict = {\"872828466\":\"7132\",\n",
    "                  \"839465958\":\"2330\", # is grade 7-9 secondary school? or high school. 2320 seems plausible too\n",
    "                  \"857077872\":\"2212\", # consultants = specialists. maybe it doesn't understand that\n",
    "                  \"804595650\":\"2153\", # Best guess, but JD was not descriptive at all\n",
    "                  \"785637891\":\"2634\", # Not very descriptive JD\n",
    "                  \"843263945\":\"5223\",\n",
    "                  \"822053239\":\"7523\", # uninformative JD, text looks like buttons from a website\n",
    "                  \"823300143\":\"3334\", # Not very informative, but highlights real estate multiple times\n",
    "                  \"834972267\":\"8322\", # JD says car or bus driver. so 8322 or 8331 could be correct.\n",
    "                  \"793505712\":\"2514\",\n",
    "                  \"766940573\":\"5113\",\n",
    "                  \"830014473\":\"5223\", # Was none of the top 3. 2434 (top label) is wholesale, not retail\n",
    "                  \"792868203\":\"9629\", # Not descriptive at all. \n",
    "                  \"844673659\":\"8211\", # Not very descriptive, ambiguous JD\n",
    "                  \"824883616\":\"3434\", # Literally no description\n",
    "                  \"891827176\":\"2431\", # Big differences between the numbers. But it's more admin than the ISCO job description. maybe there will be a better suggestion next\n",
    "                  \"753741043\":\"7322\",\n",
    "                  \"776400501\":\"8142\", # Chemicals  vs plastics? Confused? maybe need keyword search?\n",
    "                  \"789188547\":\"2262\",\n",
    "                  \"848225359\":\"1345\", # Big differences between the numbers\n",
    "                  \"879064773\":\"9111\", # 9111, hard to say which one. 9111 is the first pick tho, although 5152 seems slightly more relevant. It depends on the skill level, which is not quite stated in the JD\n",
    "                  \"775359643\":\"2433\", # None of the 3 options were good. Too much focus on the business\n",
    "                  \"810131612\":\"7221\",\n",
    "                  \"802436242\":\"7411\", # No description of job\n",
    "                  \"754636130\":\"3321\",\n",
    "                  \"779195013\":\"5131\", # Very messy JD, has a lot of other jobs combined into 1.Mentions many diff countries, so maybe that's why 4221 (Travel consultants and clerks) came up tops\n",
    "                  \"799557704\":\"3112\", # JD was different from the job title. That being said, civil engineering was mentioned quite a bit, in terms of buildings and blueprints etc\n",
    "                  \"844474920\":\"9412\", # Only had job title!! the whole description was about the HR company. The only hint was \"unskilled\"\n",
    "                  \"872195174\":\"2151\", # Non-descriptive, had to rely on isco hierarchy, seemed like a proper engineer instead of a technician\n",
    "                  \"836929936\":\"8152\", # Close fight between 8152/8153, but 8152 seems all emcompassing\n",
    "                  \"887356686\":\"9333\", # Totally wrong. Perhaps due to a technical terminology e.g. dock, and CACES\n",
    "                  \"877325404\":\"4222\",\n",
    "                  \"794441431\":\"7111\", # Not very descriptive. Not likely a supervisory role, hence 7111 instead of 3123\n",
    "                  \"891808036\":\"9321\", # Only have job title\n",
    "                  \"847941059\":\"5322\",\n",
    "                  \"786885741\":\"2431\", # No tasks at all, only talks about the company. 2431 was the closest\n",
    "                  \"873295233\":\"3322\",\n",
    "                  \"845150846\":\"2152\",\n",
    "                  \"779705693\":\"9412\",\n",
    "                  \"797628595\":\"9112\", # 9129 might be better than 9112 due to it mentioning usage of machinery, which is slightly more special. Stick to 9112 for now\n",
    "                  \"828908699\":\"2141\", # Was tough finding a job description for QA/QC. Maybe a better classification will come along\n",
    "                  \"863016564\":\"5244\" # Most likely, but non-descriptive JD too.                 \n",
    "                  \n",
    "                  } \n",
    "\n",
    "jobs_ts = jobs_ts[jobs_ts['id'].astype(str).isin(best_isco_dict.keys())].copy()"
   ]
  },
  {
   "cell_type": "code",
   "execution_count": 8,
   "metadata": {},
   "outputs": [],
   "source": [
    "# Replace with your desired embedding model\n",
    "# Tried models: BAAI/bge-large-en-v1.5, BAAI/bge-base-en-v1.5, BAAI/bge-m3, jinaai/jina-embeddings-v2-base-en, \n",
    "# \"dunzhang/stella_en_400M_v5\", mixedbread-ai/mxbai-embed-large-v1, nomic-ai/nomic-embed-text-v1, intfloat/multilingual-e5-large, jinaai/jina-embeddings-v3\n",
    "embedding_function = embedding_functions.SentenceTransformerEmbeddingFunction(model_name=\"mixedbread-ai/mxbai-embed-large-v1\",\n",
    "                                                                              trust_remote_code=True)\n",
    "\n",
    "# Create a ChromaDB client\n",
    "client = chromadb.Client()\n",
    "\n",
    "# Create a collection\n",
    "collection = client.create_collection(\n",
    "    name=\"isco\",\n",
    "    embedding_function=embedding_function,\n",
    "        metadata={\"hnsw:space\": \"cosine\"}\n",
    ")\n"
   ]
  },
  {
   "cell_type": "code",
   "execution_count": null,
   "metadata": {},
   "outputs": [],
   "source": [
    "# Add documents to the collection\n",
    "collection.add(\n",
    "    documents=isco['description'].to_list(),\n",
    "    ids=isco['code'].to_list()\n",
    ")"
   ]
  },
  {
   "cell_type": "code",
   "execution_count": 14,
   "metadata": {},
   "outputs": [],
   "source": [
    "# Document retrieval\n",
    "results = collection.query(\n",
    "    query_texts=jobs_ts['title_desc_ts_postclean'], # Chroma will embed this for you\n",
    "    n_results=10 # how many results to return\n",
    ")"
   ]
  },
  {
   "cell_type": "code",
   "execution_count": 15,
   "metadata": {},
   "outputs": [],
   "source": [
    "# Get retrieved ISCO code, distances, and top ranked isco code\n",
    "jobs_ts['retrieved_isco_codes'] = [retrieved_isco for retrieved_isco in results['ids']]\n",
    "jobs_ts['retrieved_distances'] = [retrieved_isco for retrieved_isco in results['distances']]\n",
    "jobs_ts['isco_code'] = [retrieved_isco[0] for retrieved_isco in results['ids']]"
   ]
  },
  {
   "cell_type": "code",
   "execution_count": 16,
   "metadata": {},
   "outputs": [],
   "source": [
    "# Sample a few rows per language and review retrieved code: For the initial review, but note the findings of the review\n",
    "# and the creation of the \"gold standard\" dataset are above \n",
    "sampled_results = jobs_ts.groupby(\"lang\")[['id', 'lang', 'retrieved_isco_codes', 'title_desc_ts_postclean']].head(2)\n"
   ]
  },
  {
   "cell_type": "code",
   "execution_count": null,
   "metadata": {},
   "outputs": [],
   "source": [
    "# evaluation: 1st try (bge-large-1.5) was 0.667. Note, leaderboard = 0.45 (before notes and misc were removed) - Did not add instruction to prompt\n",
    "# 3rd try (bge-base-1.5): 0.524 -- leaderboard = 0.4336 - Did not add instruction to prompt\n",
    "# 4th try (bge-m3): 0.506\n",
    "# 4.5th try (bge-m3 with jina-reranker-v2-base-multilingual, k=5): 0.738\n",
    "# 4.75th try (bge-m3 with jina-reranker-v2-base-multilingual, k=10): 0.714\n",
    "# 5th try (bge-large-1.5 with jina-reranker-v2-base-multilingual, k=10): 0.685\n",
    "# 6th try (bge-large-1.5 with jina-reranker-v1-turbo-en, k=10): 0.452\n",
    "# 7th try (bge-large-1.5 with jina-reranker-v1-turbo-en, k=5): 0.530 -- Leaderboard = 0.415\n",
    "# 8th try (Alibaba-NLP/gte-large-en-v1.5): 0.595\n",
    "# 9th try (Alibaba-NLP/gte-large-en-v1.5 with jina-reranker-v1-turbo-en, k=5): 0.536\n",
    "# 10th try (Alibaba-NLP/gte-large-en-v1.5 with jina-reranker-v1-turbo-en, k=10): 0.553\n",
    "# 11th try (mixedbread-ai/mxbai-embed-large-v1, k=5): 0.625\n",
    "# 11.5th try (mixedbread-ai/mxbai-embed-large-v1, k=10): 0.667\n",
    "# 12th try (mixedbread-ai/mxbai-embed-large-v1 with jina-reranker-v1-turbo-en, k=5): 0.595\n",
    "# 13th try (mixedbread-ai/mxbai-embed-large-v1 with jina-reranker-v1-turbo-en, k=10): 0.482\n",
    "# 14th try (nomic-ai/nomic-embed-text-v1): 0.5\n",
    "# 15th try (nomic-ai/nomic-embed-text-v1 with jina-reranker-v1-turbo-en, k=10): 0.470\n",
    "# 16th try (intfloat/multilingual-e5-large): 0.488\n",
    "# 17th try (intfloat/multilingual-e5-large with jina-reranker-v1-turbo-en, k=10): 0.506\n",
    "# 18th try (mixedbread-ai/mxbai-embed-large-v1 with jina-reranker-v2-base-multilingual, k=10): 0.690. Leaderboard = 0.50 **\n",
    "# 18.5th try (mixedbread-ai/mxbai-embed-large-v1 with jina-reranker-v2-base-multilingual, k=5): <0.732\n",
    "# 19th try (jina-embeddings-v2-base-en): 0.577\n",
    "# 20th try (jina-embeddings-v2-base-en with jina-reranker-v2-base-multilingual, k=10): 0.673\n",
    "# 21th try (jina-embeddings-v2-base-en with jina-reranker-v2-base-multilingual, k=5): 0.655\n",
    "def calc_lca(row):\n",
    "    isco1 = row['manual_isco']\n",
    "    isco2 = row['isco_code']\n",
    "    if isco1[0] != isco2[0]:\n",
    "        return 0\n",
    "    elif isco1[1] != isco2[1]:\n",
    "        return 0.25\n",
    "    elif isco1[2] != isco2[2]:\n",
    "        return 0.5\n",
    "    elif isco1[3] != isco2[3]:\n",
    "        return 0.75\n",
    "    else:\n",
    "        return 1\n",
    "\n",
    "def calc_lca_df(df):\n",
    "    eval_df = df[df['id'].astype(str).isin(best_isco_dict.keys())].copy()\n",
    "    eval_df['manual_isco'] = eval_df['id'].astype(str).map(best_isco_dict)\n",
    "    eval_df['lca'] = eval_df.apply(calc_lca,axis=1)\n",
    "    avg_lca = eval_df['lca'].mean()\n",
    "    print(f\"Avg LCA: {avg_lca}\") \n",
    "    return avg_lca\n",
    "\n",
    "calc_lca_df(jobs_ts)"
   ]
  },
  {
   "cell_type": "code",
   "execution_count": null,
   "metadata": {},
   "outputs": [],
   "source": [
    "# If want to apply Cross-encoder. Only jina seems to have a reranker which can take long context lengths\n",
    "# Tried: jinaai/jina-reranker-v1-turbo-en, jinaai/jina-reranker-v2-base-multilingual\n",
    "tqdm.pandas(desc='Cross-encoding in progress')\n",
    "model = CrossEncoder(\"jinaai/jina-embeddings-v2-base-en\",\n",
    "    automodel_args={\"torch_dtype\": \"auto\"}, \n",
    "    trust_remote_code=True)\n",
    "\n",
    "# The description is the query\n",
    "reranked_isco_codes = []\n",
    "for idx, query in tqdm(enumerate(jobs_ts['title_desc_ts_postclean']), total=len(jobs_ts['title_desc_ts_postclean'])):\n",
    "    # rerank the results with original query and documents returned from Chroma\n",
    "    sentence_pairs = [(query, doc) for doc in results[\"documents\"][idx]]\n",
    "    scores = model.predict(sentence_pairs, convert_to_tensor=True).tolist()\n",
    "    # get the isco of the highest scoring document\n",
    "    reranked_isco_codes.append(results[\"ids\"][idx][np.argmax(scores)])"
   ]
  },
  {
   "cell_type": "code",
   "execution_count": null,
   "metadata": {},
   "outputs": [],
   "source": [
    "# check LCA of reranked dataset\n",
    "jobs_ts_reranked = jobs_ts.copy()\n",
    "jobs_ts_reranked['isco_code'] = reranked_isco_codes\n",
    "calc_lca_df(jobs_ts_reranked)"
   ]
  },
  {
   "cell_type": "code",
   "execution_count": 16,
   "metadata": {},
   "outputs": [],
   "source": [
    "# Check gold standard dataset\n",
    "gs_reranked = jobs_ts_reranked[jobs_ts_reranked['id'].astype(str).isin(best_isco_dict.keys())].copy()\n",
    "gs_reranked['manual_isco'] = gs_reranked['id'].astype(str).map(best_isco_dict)"
   ]
  },
  {
   "cell_type": "code",
   "execution_count": 22,
   "metadata": {},
   "outputs": [],
   "source": [
    "# Prepare submission\n",
    "jobs_ts_reranked[['id', 'isco_code']].to_csv('../submission/classification.csv', index=False, header=False)"
   ]
  },
  {
   "cell_type": "code",
   "execution_count": null,
   "metadata": {},
   "outputs": [],
   "source": []
  },
  {
   "cell_type": "code",
   "execution_count": null,
   "metadata": {},
   "outputs": [],
   "source": [
    "# If want to create new vector database\n",
    "client.delete_collection(name=\"isco\")"
   ]
  },
  {
   "cell_type": "code",
   "execution_count": null,
   "metadata": {},
   "outputs": [],
   "source": []
  }
 ],
 "metadata": {
  "kernelspec": {
   "display_name": "es24",
   "language": "python",
   "name": "python3"
  },
  "language_info": {
   "codemirror_mode": {
    "name": "ipython",
    "version": 3
   },
   "file_extension": ".py",
   "mimetype": "text/x-python",
   "name": "python",
   "nbconvert_exporter": "python",
   "pygments_lexer": "ipython3",
   "version": "3.10.14"
  }
 },
 "nbformat": 4,
 "nbformat_minor": 2
}
