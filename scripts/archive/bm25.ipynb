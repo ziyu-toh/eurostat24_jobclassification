{
 "cells": [
  {
   "cell_type": "code",
   "execution_count": 1,
   "metadata": {},
   "outputs": [],
   "source": [
    "import bm25s\n",
    "import Stemmer  # optional: for stemming\n",
    "\n",
    "import pandas as pd\n",
    "import numpy as np\n",
    "from tqdm.notebook import tqdm"
   ]
  },
  {
   "cell_type": "code",
   "execution_count": 2,
   "metadata": {},
   "outputs": [],
   "source": [
    "# Load data\n",
    "jobs_ts = pd.read_csv('../output/jobs_ts.csv')\n",
    "isco = pd.read_csv('../data/wi_labels.csv', dtype=str)\n"
   ]
  },
  {
   "cell_type": "code",
   "execution_count": 3,
   "metadata": {},
   "outputs": [],
   "source": [
    "# Some last minute cleaning\n",
    "jobs_ts['title_desc_ts_postclean'] = jobs_ts['title_desc_ts_postclean'].str.lower()\n",
    "isco['description'] = isco['description'].str.lower()"
   ]
  },
  {
   "cell_type": "code",
   "execution_count": 4,
   "metadata": {},
   "outputs": [],
   "source": [
    "# Checking out notes/Some related occupations classified elsewhere” for ISCO\n",
    "# These additional notes may end up saying how another classification would be better, and may confuse the rag\n",
    "# so to remove them. Note, \"notes\" are always after \"some related occupations...\"\n",
    "isco['description'] = (isco['description']\n",
    "                       .str.replace(r'(notes\\n.*)', '', regex=True)\n",
    "                       .str.replace(r'(some related occupations classified elsewhere.*)', '', regex=True))\n"
   ]
  },
  {
   "cell_type": "code",
   "execution_count": 5,
   "metadata": {},
   "outputs": [
    {
     "data": {
      "application/vnd.jupyter.widget-view+json": {
       "model_id": "7572b6508a6f4371a292dc9984637b97",
       "version_major": 2,
       "version_minor": 0
      },
      "text/plain": [
       "Split strings:   0%|          | 0/436 [00:00<?, ?it/s]"
      ]
     },
     "metadata": {},
     "output_type": "display_data"
    },
    {
     "data": {
      "application/vnd.jupyter.widget-view+json": {
       "model_id": "4746278df5e94cd99363016fa36dd97c",
       "version_major": 2,
       "version_minor": 0
      },
      "text/plain": [
       "Stem Tokens:   0%|          | 0/436 [00:00<?, ?it/s]"
      ]
     },
     "metadata": {},
     "output_type": "display_data"
    },
    {
     "data": {
      "application/vnd.jupyter.widget-view+json": {
       "model_id": "2cd7e6226d67497095b2e06a7123be6a",
       "version_major": 2,
       "version_minor": 0
      },
      "text/plain": [
       "BM25S Count Tokens:   0%|          | 0/436 [00:00<?, ?it/s]"
      ]
     },
     "metadata": {},
     "output_type": "display_data"
    },
    {
     "data": {
      "application/vnd.jupyter.widget-view+json": {
       "model_id": "ab9d510d380c44c0a12c6007ab497f91",
       "version_major": 2,
       "version_minor": 0
      },
      "text/plain": [
       "BM25S Compute Scores:   0%|          | 0/436 [00:00<?, ?it/s]"
      ]
     },
     "metadata": {},
     "output_type": "display_data"
    }
   ],
   "source": [
    "# Create your corpus here\n",
    "corpus = isco['description'].to_list()\n",
    "\n",
    "# optional: create a stemmer\n",
    "stemmer = Stemmer.Stemmer(\"english\")\n",
    "\n",
    "# Tokenize the corpus and only keep the ids (faster and saves memory)\n",
    "corpus_tokens = bm25s.tokenize(corpus, stopwords=\"en\", stemmer=stemmer)\n",
    "\n",
    "# Create the BM25 model and index the corpus\n",
    "retriever = bm25s.BM25()\n",
    "retriever.index(corpus_tokens)\n"
   ]
  },
  {
   "cell_type": "code",
   "execution_count": 9,
   "metadata": {},
   "outputs": [
    {
     "name": "stdout",
     "output_type": "stream",
     "text": [
      "query:  consultants in emergency medicine - doughiska. the galway clinic is a leading 146 bed, state of the art independent hospital situated on the outskirts of galway, ireland and is an affiliated teaching hospital to the royal college of surgeons in ireland (rcsi) and national university of ireland galway (nuig). there is a 4-bed coronary care unit and 8-bed intensive care/high dependency unit. we are looking to expand our consultant team to cover our busy emergency department service. consultants in emergency medicine the clinic is aiming to recruit full-time or part-time consultants who have completed the appropriate specialist training in emergency medicine and are on the specialist division of the register of the medical council in ireland, or are eligible to be so. the primary responsibility will be working as part of a team of consultants providing patient care within the galway clinics emergency room, which presently opens 10am to 6pm weekdays and 10am to 5pm at weekends. the posts do not have any on-call or night time obligations. the galway clinic offers very attractive remuneration for suitably qualified specialists to fill these posts. to apply, please forward an up to date cv and cover letter\n"
     ]
    },
    {
     "data": {
      "application/vnd.jupyter.widget-view+json": {
       "model_id": "1bfa09fe18d041599edb4ad913b27fa9",
       "version_major": 2,
       "version_minor": 0
      },
      "text/plain": [
       "Split strings:   0%|          | 0/1 [00:00<?, ?it/s]"
      ]
     },
     "metadata": {},
     "output_type": "display_data"
    },
    {
     "data": {
      "application/vnd.jupyter.widget-view+json": {
       "model_id": "0bfb61cfe87748bfadd85ddaa62af1d7",
       "version_major": 2,
       "version_minor": 0
      },
      "text/plain": [
       "Stem Tokens:   0%|          | 0/1 [00:00<?, ?it/s]"
      ]
     },
     "metadata": {},
     "output_type": "display_data"
    },
    {
     "data": {
      "application/vnd.jupyter.widget-view+json": {
       "model_id": "e696ff2ece224d3f9c83bc2c93c66dcf",
       "version_major": 2,
       "version_minor": 0
      },
      "text/plain": [
       "BM25S Retrieve:   0%|          | 0/1 [00:00<?, ?it/s]"
      ]
     },
     "metadata": {},
     "output_type": "display_data"
    },
    {
     "name": "stdout",
     "output_type": "stream",
     "text": [
      "Rank 1 (score: 38.77): nursing associate professionals provide basic nursing and personal care for people in need of such care due to effects of ageing, illness, injury, or other physical or mental impairment. they generally work under the supervision of, and in support of, implementation of health care, treatment and referrals plans established by medical, nursing and other health professionals.\n",
      "tasks include -\n",
      "(a)  providing nursing and personal care and treatment and health advice to patients according to care plans established by health professionals; \n",
      "(b)  administering medications and other treatments to patients, monitoring patients’ condition and responses to treatment, and referring patients and their families to a health professional for specialized care as needed;\n",
      "(c)  cleaning wounds and applying surgical dressings;\n",
      "(d)  updating information on patients’ condition and treatments received in record-keeping systems;\n",
      "(e)  assisting in planning and managing the care of individual patients;\n",
      "(f)  assisting in giving first-aid treatment in emergencies.\n",
      "examples of the occupations classified here:\n",
      "- assistant nurse\n",
      "- associate professional nurse \n",
      "- enrolled nurse\n",
      "- practical nurse\n",
      "\n",
      "-  clinical nurse consultant - 2221\n",
      "-  professional nurse - 2221\n",
      "-  specialist nurse - 2221\n",
      "-  professional midwife - 2222\n",
      "-  associate professional midwife - 3222\n",
      "-  nursing aide (clinic or hospital) - 5321\n",
      "-  nursing aide (home) - 5322\n",
      "note\n",
      "the distinction between professional and associate professional nurses should be made on the basis of the nature of the work performed in relation to the tasks specified in this definition. the qualifications held by individuals or that predominate in the country are not the main factor in making this distinction, as training arrangements for nurses vary widely between countries and have varied over time within countries.\n",
      "\n",
      "Rank 2 (score: 37.92): nursing professionals provide treatment, support and care services for people who are in need of nursing care due to the effects of ageing, injury, illness or other physical or mental impairment, or potential risks to health. they assume responsibility for the planning and management of the care of patients, including the supervision of other health care workers, working autonomously or in teams with medical doctors and others in the practical application of preventive and curative measures.\n",
      "tasks include -\n",
      "(a)  planning, providing and evaluating nursing care for patients according to the practice and standards of modern nursing; \n",
      "(b)  coordinating the care of patients in consultation with other health professionals and members of health teams; \n",
      "(c)  developing and implementing care plans for the biological, social and psychological treatment of patients in collaboration with other health professionals; \n",
      "(d)  planning and providing personal care, treatments and therapies including administering medications, and monitoring responses to treatment or care plan;\n",
      "(e)  cleaning wounds and applying surgical dressings and bandages;\n",
      "(f)  monitoring pain and discomfort experienced by patients and alleviating pain using a variety of therapies, including the use of painkilling drugs; \n",
      "(g)  planning and participating in health education programmes, health promotion and nurse education activities in clinical and community settings; \n",
      "(h)  answering questions from patients and families and providing information about prevention of ill-health, treatment and care; \n",
      "(i)  supervising and coordinating the work of other nursing, health and personal care workers; \n",
      "(j)  conducting research on nursing practices and procedures and disseminating findings such as through scientific papers and reports.\n",
      "examples of the occupations classified here:\n",
      "- clinical nurse consultant\n",
      "- district nurse\n",
      "- nurse anaesthetist\n",
      "- nurse educator\n",
      "- nurse practitioner\n",
      "- operating theatre nurse\n",
      "- professional nurse\n",
      "- public health nurse\n",
      "- specialist nurse\n",
      "\n",
      "- professional midwife - 2222\n",
      "- paramedical practitioners - 2240\n",
      "- university lecturer - 2310\n",
      "- vocational education teacher - 2320\n",
      "- associate professional nurse - 3221\n",
      "- associate professional midwife - 3222\n",
      "- nursing aide (clinic or hospital) - 5321\n",
      "\n",
      "nurses who combine nursing education or research with clinical nursing practice are classified in unit group 2221: nursing professionals. nursing researchers who participate in biomedical research using living organisms and do not undertake clinical nursing practice are classified in unit group 2131: biologists, botanists, zoologists and related professionals.\n",
      "\n",
      "Rank 3 (score: 35.96): specialist medical practitioners (medical doctors) diagnose, treat and prevent illness, disease, injury and other physical and mental impairments in humans, using specialized testing, diagnostic, medical, surgical, physical and psychiatric techniques through application of the principles and procedures of modern medicine. they specialize in certain disease categories, types of patient or methods of treatment and may conduct medical education and research in their chosen areas of specialization.\n",
      "tasks include -\n",
      "(a)  conducting physical examinations of patients and interviewing them and their families to determine their health status; \n",
      "(b)  considering medical information provided by a referring doctor or other health care provider,\n",
      "(c)  ordering specialized diagnostic tests to determine the nature of disorders or illnesses;\n",
      "(d)  prescribing, administering and monitoring patients’ responses to treatments, medications, anaesthetics, psychotherapies, physical rehabilitation programmes and other preventive and curative measures;\n",
      "(e)  performing surgery of a general or specialized nature;\n",
      "(f)  managing complications before, during and after childbirth;\n",
      "(g)  recording patients’ medical information and exchanging information with other health professionals to ensure the provision of comprehensive care;\n",
      "(h)  reporting births, deaths and notifiable diseases to government authorities to meet legal and professional requirements;\n",
      "(i)  providing information to patients and families and communities about preventive measures, treatment and care for specific ailments;\n",
      "(j)  performing autopsies to determine cause of death; \n",
      "(k)  conducting research into specific human disorders and illnesses and preventive or curative methods and disseminating the findings such as through scientific reports;\n",
      "(l)  planning and participating in programmes designed to prevent the occurrence and spread of specific diseases.\n",
      "examples of the occupations classified here:\n",
      "- anaesthetist\n",
      "- cardiologist\n",
      "- emergency medicine specialist\n",
      "- gynaecologist\n",
      "- obstetrician\n",
      "- ophthalmologist\n",
      "- paediatrician\n",
      "- pathologist\n",
      "- preventive medicine specialist\n",
      "- psychiatrist\n",
      "- radiation oncologist\n",
      "- radiologist\n",
      "- resident medical officer in specialist training\n",
      "- specialist medical practitioner (public health)\n",
      "- specialist physician (internal medicine)\n",
      "- specialist physician (nuclear medicine)\n",
      "- surgeon\n",
      "\n",
      "- biomedical researcher - 2131 \n",
      "- general practitioner - 2211\n",
      "- resident medical officer specializing in general practice - 2211\n",
      "- dental practitioner - 2261\n",
      "- dental surgeon - 2261\n",
      "- oral and maxillofacial surgeon - 2261\n",
      "- clinical psychologist - 2634\n",
      "\n",
      "medical research professionals who participate in biomedical research using living organisms and do not undertake clinical practice are classified in unit group 2131: biologists, botanists, zoologists and related professionals.\n",
      "\n",
      "Rank 4 (score: 32.23): paramedical practitioners provide advisory, diagnostic, curative and preventive medical services more limited in scope and complexity than those carried out by medical doctors. they work autonomously, or with limited supervision of medical doctors, and apply advanced clinical procedures for treating and preventing diseases, injuries and other physical or mental impairments common to specific communities.\n",
      "tasks include -\n",
      "(a)  conducting physical examinations of patients and interviewing them and their families to determine their health status, and recording patients’ medical information;\n",
      "(b)  performing basic or more routine medical and surgical procedures, including prescribing and administering treatments, medications and other preventive or curative measures, especially for common diseases and disorders;\n",
      "(c)  administering  or ordering diagnostic tests, such as x-ray, electrocardiogram and laboratory tests; \n",
      "(d)  performing therapeutic procedures such as injections, immunizations, suturing and wound care, and infection management;\n",
      "(e)  assisting medical doctors with complex surgical procedures; \n",
      "(f)  monitoring patients’  progress and response to treatment, and identifying signs and symptoms requiring referral to medical doctors;\n",
      "(g)  advising patients and families on diet, exercise and other habits which aid prevention or treatment of disease and disorders; \n",
      "(h)  identifying and referring complex or unusual cases to medical doctors,  hospitals or other places for specialized care;\n",
      "(i)  reporting births, deaths and notifiable diseases to government authorities to meet legal and professional reporting requirements.\n",
      "examples of the occupations classified here:\n",
      "- advanced care paramedic\n",
      "- clinical officer (paramedical)\n",
      "- feldscher\n",
      "- primary care paramedic\n",
      "- surgical technician\n",
      "\n",
      "- general practitioner - 2211\n",
      "- surgeon - 2212\n",
      "- medical assistant - 3256\n",
      "- emergency paramedic - 3258\n",
      "note\n",
      "occupations included in this unit group normally require completion of tertiary-level training in theoretical and practical medical services. workers providing services limited to emergency treatment and ambulance practice are classified in unit group 3258: ambulance workers.\n",
      "\n",
      "Rank 5 (score: 30.60): midwifery professionals plan, manage, provide and evaluate midwifery care services before, during and after pregnancy and childbirth. they provide delivery care for reducing health risks to women and newborn children, working autonomously or in teams with other health care providers.\n",
      "tasks include -\n",
      "(a)  planning, providing and evaluating care and support services for women and babies before, during and after pregnancy and childbirth according to the practice and standards of modern midwifery care; \n",
      "(b)  providing advice to women and families and conducting community education on health, nutrition, hygiene, exercise, birth and emergency plans, breastfeeding, infant care, family planning and contraception, lifestyle and other topics related to pregnancy and childbirth; \n",
      "(c)  assessing progress during pregnancy and childbirth, managing complications and recognizing warning signs requiring referral to a medical doctor with specialized skills in obstetrics;\n",
      "(d)  monitoring the health status of newborns, managing complications and recognizing warning signs requiring referral to a medical doctor with specialized skills in neonatology;\n",
      "(e)  monitoring  pain and discomfort experienced by women during labour and delivery and alleviating pain using a variety of therapies, including the use of painkilling drugs;\n",
      "(f)   reporting births to government authorities to meet legal and professional requirements;\n",
      "(g)  conducting research on midwifery practices and procedures and disseminating findings such as through scientific papers and reports;\n",
      "(h)  planning and conducting midwifery education activities in clinical and community settings.\n",
      "example of the occupations classified here:\n",
      "- professional midwife\n",
      "\n",
      "- professional nurse - 2221\n",
      "- associate professional nurse - 3221\n",
      "- associate professional midwife - 3222\n",
      "- nursing aide (clinic or hospital) - 5321\n",
      "note\n",
      "the distinctions between nursing and midwifery professionals and associate professionals should be made on the basis of the nature of the work performed in relation to the tasks specified in this definition. the qualifications held by individuals or that predominate in the country are not the main factor in making this distinction, as training arrangements for nurses and midwives vary widely between countries and have varied over time within countries.  \n",
      "midwives who combine midwifery education or research with clinical midwifery practice are classified in unit group 2222: midwifery professionals.\n",
      "\n"
     ]
    }
   ],
   "source": [
    "# Query the corpus\n",
    "query = jobs_ts['title_desc_ts_postclean'][2]\n",
    "print('query: ', query)\n",
    "query_tokens = bm25s.tokenize(query, stemmer=stemmer)\n",
    "\n",
    "# Get top-k results as a tuple of (doc ids, scores). Both are arrays of shape (n_queries, k)\n",
    "results, scores = retriever.retrieve(query_tokens, corpus=corpus, k=5)\n",
    "\n",
    "for i in range(results.shape[1]):\n",
    "    doc, score = results[0, i], scores[0, i]\n",
    "    print(f\"Rank {i+1} (score: {score:.2f}): {doc}\")\n"
   ]
  },
  {
   "cell_type": "code",
   "execution_count": null,
   "metadata": {},
   "outputs": [],
   "source": []
  }
 ],
 "metadata": {
  "kernelspec": {
   "display_name": "es24",
   "language": "python",
   "name": "python3"
  },
  "language_info": {
   "codemirror_mode": {
    "name": "ipython",
    "version": 3
   },
   "file_extension": ".py",
   "mimetype": "text/x-python",
   "name": "python",
   "nbconvert_exporter": "python",
   "pygments_lexer": "ipython3",
   "version": "3.10.14"
  }
 },
 "nbformat": 4,
 "nbformat_minor": 2
}
